{
  "nbformat": 4,
  "nbformat_minor": 0,
  "metadata": {
    "colab": {
      "provenance": [],
      "authorship_tag": "ABX9TyPYt5g+eUNmajWSE5BSfpNc",
      "include_colab_link": true
    },
    "kernelspec": {
      "name": "python3",
      "display_name": "Python 3"
    },
    "language_info": {
      "name": "python"
    }
  },
  "cells": [
    {
      "cell_type": "markdown",
      "metadata": {
        "id": "view-in-github",
        "colab_type": "text"
      },
      "source": [
        "<a href=\"https://colab.research.google.com/github/Liza4239/CV-project/blob/main/CV_project.ipynb\" target=\"_parent\"><img src=\"https://colab.research.google.com/assets/colab-badge.svg\" alt=\"Open In Colab\"/></a>"
      ]
    },
    {
      "cell_type": "markdown",
      "source": [
        "Object detection (Military Aircraft Dataset)"
      ],
      "metadata": {
        "id": "Jg4FfdD-qnk8"
      }
    },
    {
      "cell_type": "markdown",
      "source": [
        "```\n",
        "TODO//: Implement dataloader\n",
        "\n",
        "```\n",
        "\n"
      ],
      "metadata": {
        "id": "_5I-irQGuAjZ"
      }
    }
  ]
}