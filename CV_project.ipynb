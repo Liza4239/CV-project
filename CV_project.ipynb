{
  "nbformat": 4,
  "nbformat_minor": 0,
  "metadata": {
    "colab": {
      "provenance": [],
      "authorship_tag": "ABX9TyPjXE4qk21ZUMIuboh+cT9h",
      "include_colab_link": true
    },
    "kernelspec": {
      "name": "python3",
      "display_name": "Python 3"
    },
    "language_info": {
      "name": "python"
    }
  },
  "cells": [
    {
      "cell_type": "markdown",
      "metadata": {
        "id": "view-in-github",
        "colab_type": "text"
      },
      "source": [
        "<a href=\"https://colab.research.google.com/github/Liza4239/CV-project/blob/main/CV_project.ipynb\" target=\"_parent\"><img src=\"https://colab.research.google.com/assets/colab-badge.svg\" alt=\"Open In Colab\"/></a>"
      ]
    },
    {
      "cell_type": "markdown",
      "source": [
        "Object detection (Military Aircraft Dataset)"
      ],
      "metadata": {
        "id": "Jg4FfdD-qnk8"
      }
    },
    {
      "cell_type": "markdown",
      "source": [
        "```\n",
        "TODO//: Implement dataloader\n",
        "\n",
        "```\n",
        "\n"
      ],
      "metadata": {
        "id": "_5I-irQGuAjZ"
      }
    },
    {
      "cell_type": "code",
      "source": [],
      "metadata": {
        "id": "f_dEXYj9qzoK"
      },
      "execution_count": null,
      "outputs": []
    }
  ]
}